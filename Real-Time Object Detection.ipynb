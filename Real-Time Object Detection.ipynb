{
 "cells": [
  {
   "cell_type": "code",
   "execution_count": 1,
   "metadata": {},
   "outputs": [],
   "source": [
    "import numpy as np\n",
    "import tensorflow as tf\n",
    "import cv2\n",
    "import matplotlib.pyplot as plt\n",
    "plt.rcParams[\"figure.figsize\"] = (16, 9)\n",
    "from utils import interpret_output, draw_result\n",
    "from object_detection_server import Detector, serve"
   ]
  },
  {
   "cell_type": "code",
   "execution_count": 2,
   "metadata": {},
   "outputs": [],
   "source": [
    "config = dict()\n",
    "# display layer information\n",
    "config['verbose'] = False\n",
    "config['weights_file']='YOLO_small.ckpt'"
   ]
  },
  {
   "cell_type": "markdown",
   "metadata": {},
   "source": [
    "### Define Basic NN Layers"
   ]
  },
  {
   "cell_type": "code",
   "execution_count": 3,
   "metadata": {},
   "outputs": [],
   "source": [
    "def conv_layer(inputs, filters, size, stride, alpha=0.1, name=''):\n",
    "    # compute shapes\n",
    "    channels = int(inputs.get_shape()[3])\n",
    "    pad_size = size//2\n",
    "    pad_mat = np.array([[0, 0], [pad_size, pad_size], [pad_size, pad_size], [0, 0]])\n",
    "    inputs_pad = tf.pad(inputs, pad_mat)\n",
    "    # intialize weights\n",
    "    weight = tf.Variable(tf.truncated_normal([size,size, channels, filters], stddev=0.1))\n",
    "    biases = tf.Variable(tf.constant(0.1, shape=[filters]))\n",
    "    # construct convolution+bias+ReLU layer\n",
    "    conv = tf.nn.conv2d(inputs_pad, weight, strides=[1, stride, stride, 1], padding='VALID', name=name+'_conv')\n",
    "    conv_biased = tf.add(conv, biases, name=name+'_conv_biased')\n",
    "    conv_biased_relu = tf.maximum(alpha*conv_biased, conv_biased, name=name+'_leaky_relu')\n",
    "    if config['verbose']:\n",
    "        print('\\tLayer {}: Type = Conv, Size = {} * {}, Stride = {}, Filters = {}, Input channels = {}'\n",
    "              .format(name, size, size, stride, filters, channels))\n",
    "    return conv_biased_relu"
   ]
  },
  {
   "cell_type": "code",
   "execution_count": 4,
   "metadata": {},
   "outputs": [],
   "source": [
    "def pooling_layer(inputs, size, stride, name=''):\n",
    "    max_pooling = tf.nn.max_pool(inputs, ksize=[1, size, size, 1], strides=[1, stride, stride, 1], padding='SAME',\n",
    "                                name=name+'_pool')\n",
    "    if config['verbose']: \n",
    "        print('\\tLayer {}: Type = Pool, Size = {} * {}, Stride = {}'.format(name, size, size, stride))\n",
    "    return max_pooling"
   ]
  },
  {
   "cell_type": "code",
   "execution_count": 5,
   "metadata": {},
   "outputs": [],
   "source": [
    "def fc_layer(inputs, hiddens, flat=False, linear=False, alpha=0.1, name=''):\n",
    "    # compute shapes\n",
    "    input_shape = inputs.get_shape().as_list()\n",
    "    if flat:\n",
    "        dim = input_shape[1]*input_shape[2]*input_shape[3]\n",
    "        inputs_transposed = tf.transpose(inputs, (0, 3, 1, 2))\n",
    "        inputs_processed = tf.reshape(inputs_transposed, [-1, dim])\n",
    "    else:\n",
    "        dim = input_shape[1]\n",
    "        inputs_processed = inputs\n",
    "    # initialize weights\n",
    "    weight = tf.Variable(tf.truncated_normal([dim, hiddens], stddev=0.1))\n",
    "    biases = tf.Variable(tf.constant(0.1, shape=[hiddens]))\n",
    "    # construct fc layer\n",
    "    if linear:\n",
    "        fc = tf.add(tf.matmul(inputs_processed, weight), biases, name=name+'_fc')\n",
    "    else:\n",
    "        ip = tf.add(tf.matmul(inputs_processed, weight), biases)\n",
    "        # add non-linear: leaky ReLU\n",
    "        fc = tf.maximum(alpha*ip, ip, name=name+'_fc')\n",
    "    if config['verbose']:\n",
    "        print('\\tLayer {}: Type = Full, Hidden = {}, Input dimension = {}, Flat = {}, Activation = {}'\n",
    "              .format(name, hiddens, int(dim), int(flat), 1-int(linear)))\n",
    "    return fc"
   ]
  },
  {
   "cell_type": "markdown",
   "metadata": {},
   "source": [
    "### YOLO Network (small version) Constructor"
   ]
  },
  {
   "cell_type": "code",
   "execution_count": 6,
   "metadata": {},
   "outputs": [],
   "source": [
    "def build_YOLO_small():\n",
    "    if config['verbose']:\n",
    "        print('Building YOLO_small graph...')\n",
    "    inp = tf.placeholder('float32', [None, 448, 448, 3])\n",
    "    conv_1 = conv_layer(inp, 64, 7, 2, name='1')\n",
    "    pool_2 = pooling_layer(conv_1, 2 ,2, name='2')\n",
    "    conv_3 = conv_layer(pool_2, 192, 3, 1, name='3')\n",
    "    pool_4 = pooling_layer(conv_3, 2, 2, name='4')\n",
    "    conv_5 = conv_layer(pool_4, 128, 1, 1, name='5')\n",
    "    conv_6 = conv_layer(conv_5, 256, 3, 1, name='6')\n",
    "    conv_7 = conv_layer(conv_6, 256, 1, 1, name='7')\n",
    "    conv_8 = conv_layer(conv_7, 512, 3, 1, name='8')\n",
    "    pool_9 = pooling_layer(conv_8, 2, 2, name='9')\n",
    "    conv_10 = conv_layer(pool_9, 256, 1, 1, name='10')\n",
    "    conv_11 = conv_layer(conv_10, 512, 3, 1, name='11')\n",
    "    conv_12 = conv_layer(conv_11, 256, 1, 1, name='12')\n",
    "    conv_13 = conv_layer(conv_12, 512, 3, 1, name='13')\n",
    "    conv_14 = conv_layer(conv_13, 256, 1, 1, name='14')\n",
    "    conv_15 = conv_layer(conv_14, 512, 3, 1, name='15')\n",
    "    conv_16 = conv_layer(conv_15, 256, 1, 1, name='16')\n",
    "    conv_17 = conv_layer(conv_16, 512, 3, 1, name='17')\n",
    "    conv_18 = conv_layer(conv_17, 512, 1, 1, name='18')\n",
    "    conv_19 = conv_layer(conv_18, 1024 ,3, 1, name='19')\n",
    "    pool_20 = pooling_layer(conv_19, 2, 2, name='20')\n",
    "    conv_21 = conv_layer(pool_20, 512, 1, 1, name='21')\n",
    "    conv_22 = conv_layer(conv_21, 1024, 3, 1, name='22')\n",
    "    conv_23 = conv_layer(conv_22, 512, 1, 1, name='23')\n",
    "    conv_24 = conv_layer(conv_23, 1024, 3, 1, name='24')\n",
    "    conv_25 = conv_layer(conv_24, 1024, 3, 1, name='25')\n",
    "    conv_26 = conv_layer(conv_25, 1024, 3, 2, name='26')\n",
    "    conv_27 = conv_layer(conv_26, 1024, 3, 1, name='27')\n",
    "    conv_28 = conv_layer(conv_27, 1024, 3, 1, name='28')\n",
    "    fc_29 = fc_layer(conv_28, 512, flat=True, linear=False, name='29')\n",
    "    fc_30 = fc_layer(fc_29, 4096, flat=False, linear=False, name='30')\n",
    "    # skip dropout_31 (only used in training)\n",
    "    fc_32 = fc_layer(fc_30, 1470, flat=False, linear=True, name='32')\n",
    "    \n",
    "    return {'input': inp, 'model': fc_32}"
   ]
  },
  {
   "cell_type": "code",
   "execution_count": 7,
   "metadata": {},
   "outputs": [],
   "source": [
    "with tf.device('/device:GPU:0'):\n",
    "    net = build_YOLO_small()"
   ]
  },
  {
   "cell_type": "markdown",
   "metadata": {},
   "source": [
    "### Define Detector"
   ]
  },
  {
   "cell_type": "code",
   "execution_count": 8,
   "metadata": {},
   "outputs": [],
   "source": [
    "class YOLODetector():\n",
    "    def __init__(self, net):\n",
    "        self.net = net\n",
    "        tf_config = tf.ConfigProto()\n",
    "        tf_config.gpu_options.allow_growth = True\n",
    "        self.sess = tf.Session(config=tf_config)\n",
    "        tf.global_variables_initializer()\n",
    "        saver = tf.train.Saver()\n",
    "        saver.restore(self.sess, config['weights_file'])\n",
    "    \n",
    "    def detect(self, img):\n",
    "        h_img, w_img, _ = img.shape\n",
    "        img_resized = cv2.resize(img, (448, 448))\n",
    "        img_RGB = cv2.cvtColor(img_resized, cv2.COLOR_BGR2RGB)\n",
    "        img_resized_np = np.asarray(img_RGB)\n",
    "        inputs = np.zeros((1, 448, 448, 3), dtype='float32')\n",
    "        inputs[0] = (img_resized_np/255.0)*2.0-1.0\n",
    "        output = self.sess.run(self.net['model'], feed_dict={self.net['input']: inputs})\n",
    "        result = interpret_output(output[0], w_img, h_img, threshold=0.2, iou_threshold=0.5)\n",
    "        return result"
   ]
  },
  {
   "cell_type": "code",
   "execution_count": null,
   "metadata": {
    "scrolled": false
   },
   "outputs": [
    {
     "name": "stdout",
     "output_type": "stream",
     "text": [
      "INFO:tensorflow:Restoring parameters from YOLO_small.ckpt\n"
     ]
    }
   ],
   "source": [
    "if not 'yolo_detector' in globals():\n",
    "    yolo_detector = YOLODetector(net)"
   ]
  },
  {
   "cell_type": "markdown",
   "metadata": {},
   "source": [
    "### Main Loop"
   ]
  },
  {
   "cell_type": "code",
   "execution_count": null,
   "metadata": {},
   "outputs": [],
   "source": [
    "serve(Detector(yolo_detector))"
   ]
  },
  {
   "cell_type": "code",
   "execution_count": null,
   "metadata": {
    "scrolled": false
   },
   "outputs": [],
   "source": [
    "img = cv2.imread('test.jpg')\n",
    "result = yolo_detector.detect(img)\n",
    "result_img = draw_result(img, result)\n",
    "plt.imshow(result_img)\n",
    "plt.show()"
   ]
  },
  {
   "cell_type": "code",
   "execution_count": null,
   "metadata": {},
   "outputs": [],
   "source": [
    "result"
   ]
  }
 ],
 "metadata": {
  "kernelspec": {
   "display_name": "Python 2",
   "language": "python",
   "name": "python2"
  },
  "language_info": {
   "codemirror_mode": {
    "name": "ipython",
    "version": 2
   },
   "file_extension": ".py",
   "mimetype": "text/x-python",
   "name": "python",
   "nbconvert_exporter": "python",
   "pygments_lexer": "ipython2",
   "version": "2.7.12"
  }
 },
 "nbformat": 4,
 "nbformat_minor": 2
}
